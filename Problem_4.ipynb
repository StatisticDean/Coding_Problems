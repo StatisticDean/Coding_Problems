{
 "cells": [
  {
   "cell_type": "markdown",
   "metadata": {},
   "source": [
    "This problem was asked by Stripe.\n",
    "\n",
    "Given an array of integers, find the first missing positive integer in linear time and constant space. In other words, find the lowest positive integer that does not exist in the array. The array can contain duplicates and negative numbers as well.\n",
    "\n",
    "For example, the input [3, 4, -1, 1] should give 2. The input [1, 2, 0] should give 3.\n",
    "\n",
    "You can modify the input array in-place."
   ]
  },
  {
   "cell_type": "markdown",
   "metadata": {},
   "source": [
    "# Brute force Solution"
   ]
  },
  {
   "cell_type": "code",
   "execution_count": 8,
   "metadata": {},
   "outputs": [],
   "source": [
    "def lowest_missing(l):\n",
    "    for i in range(1, len(l) + 1):\n",
    "        if i not in l:\n",
    "            return i\n",
    "    return len(l) + 2"
   ]
  },
  {
   "cell_type": "code",
   "execution_count": 9,
   "metadata": {},
   "outputs": [],
   "source": [
    "assert lowest_missing([3, 4, -1, 1]) == 2"
   ]
  },
  {
   "cell_type": "markdown",
   "metadata": {},
   "source": [
    "# Solution in linear time"
   ]
  },
  {
   "cell_type": "markdown",
   "metadata": {},
   "source": [
    "We can remark that the lowest missing number is always between 1 and n+1 where n is the length of the array. Indeed, if the lowest integer missing was greater than  n+1, it would mean, all the integers between 1 and n+1 are in the array, which is impossible because the array only has n elements."
   ]
  },
  {
   "cell_type": "markdown",
   "metadata": {},
   "source": [
    "WLOG, we could assume that the array only contains positive numbers between 1 and n+1. We won't need that for this solution."
   ]
  },
  {
   "cell_type": "markdown",
   "metadata": {},
   "source": [
    "Here is a solution that goes through the array only one time. We go through the array. When we encounter a number i between 1 and n+1, we put it at index i-1 (by switching with the number at the index i-1, if this number is not already equal to i).\n",
    "\n",
    "At the end, we get an array, that looks like [1,2,3, ..] and the first number missing is our lowest missing number.(Because if it was in the original array, it would have been switched to this position).\n",
    "\n",
    "The space complexity is O(1) because we only have a constant number of variable besides our array that we modify in place. Concerning the time complexity, we go through the whole array once to modify it, and we take an extra step each time we have to make a switch. Since we make at most n switch, our time complexity is O(n)"
   ]
  },
  {
   "cell_type": "code",
   "execution_count": 13,
   "metadata": {},
   "outputs": [],
   "source": [
    "def lowest_missing_opt(l):\n",
    "    index = 0\n",
    "    n = len(l)\n",
    "    while index < n:\n",
    "        e = l[index]\n",
    "        if (0 < e) and (e < n) and (l[e-1] != e):\n",
    "            l[e-1], l[index] = l[index], l[e-1]\n",
    "        else:\n",
    "            index += 1\n",
    "        print(l)\n",
    "    for i,j in enumerate(l):\n",
    "        if i+1 != j:\n",
    "            return i+1\n",
    "    else:\n",
    "        return n+1"
   ]
  },
  {
   "cell_type": "code",
   "execution_count": 14,
   "metadata": {},
   "outputs": [
    {
     "name": "stdout",
     "output_type": "stream",
     "text": [
      "[-1, 4, 3, 1]\n",
      "[-1, 4, 3, 1]\n",
      "[-1, 4, 3, 1]\n",
      "[-1, 4, 3, 1]\n",
      "[1, 4, 3, -1]\n",
      "[1, 4, 3, -1]\n"
     ]
    }
   ],
   "source": [
    "assert lowest_missing_opt([3, 4, -1, 1]) == 2"
   ]
  },
  {
   "cell_type": "code",
   "execution_count": 18,
   "metadata": {},
   "outputs": [
    {
     "name": "stdout",
     "output_type": "stream",
     "text": [
      "4\n",
      "[8 1 3 3 9 0 7 3 0 2]\n",
      "[3 1 3 3 9 0 7 8 0 2]\n",
      "[3 1 3 3 9 0 7 8 0 2]\n",
      "[1 3 3 3 9 0 7 8 0 2]\n",
      "[1 3 3 3 9 0 7 8 0 2]\n",
      "[1 3 3 3 9 0 7 8 0 2]\n",
      "[1 3 3 3 9 0 7 8 0 2]\n",
      "[1 3 3 3 0 0 7 8 9 2]\n",
      "[1 3 3 3 0 0 7 8 9 2]\n",
      "[1 3 3 3 0 0 7 8 9 2]\n",
      "[1 3 3 3 0 0 7 8 9 2]\n",
      "[1 3 3 3 0 0 7 8 9 2]\n",
      "[1 3 3 3 0 0 7 8 9 2]\n",
      "[1 2 3 3 0 0 7 8 9 3]\n",
      "[1 2 3 3 0 0 7 8 9 3]\n"
     ]
    }
   ],
   "source": [
    "import numpy as np\n",
    "l = np.random.randint(0, 10, 10)\n",
    "print(lowest_missing(l))\n",
    "assert lowest_missing_opt(l) == lowest_missing(l)"
   ]
  },
  {
   "cell_type": "code",
   "execution_count": null,
   "metadata": {},
   "outputs": [],
   "source": []
  }
 ],
 "metadata": {
  "kernelspec": {
   "display_name": "Python [default]",
   "language": "python",
   "name": "python3"
  },
  "language_info": {
   "codemirror_mode": {
    "name": "ipython",
    "version": 3
   },
   "file_extension": ".py",
   "mimetype": "text/x-python",
   "name": "python",
   "nbconvert_exporter": "python",
   "pygments_lexer": "ipython3",
   "version": "3.6.6"
  }
 },
 "nbformat": 4,
 "nbformat_minor": 2
}
