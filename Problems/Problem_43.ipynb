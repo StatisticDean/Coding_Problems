{
 "cells": [
  {
   "cell_type": "markdown",
   "metadata": {},
   "source": [
    "Good morning! Here's your coding interview problem for today.\n",
    "\n",
    "This problem was asked by Amazon.\n",
    "\n",
    "Implement a stack that has the following methods:\n",
    "\n",
    "push(val), which pushes an element onto the stack\n",
    "pop(), which pops off and returns the topmost element of the stack. If there are no elements in the stack, then it should throw an error or return null.\n",
    "max(), which returns the maximum value in the stack currently. If there are no elements in the stack, then it should throw an error or return null.\n",
    "Each method should run in constant time."
   ]
  },
  {
   "cell_type": "code",
   "execution_count": null,
   "metadata": {},
   "outputs": [],
   "source": []
  }
 ],
 "metadata": {
  "kernelspec": {
   "display_name": "Python 3",
   "language": "python",
   "name": "python3"
  },
  "language_info": {
   "codemirror_mode": {
    "name": "ipython",
    "version": 3
   },
   "file_extension": ".py",
   "mimetype": "text/x-python",
   "name": "python",
   "nbconvert_exporter": "python",
   "pygments_lexer": "ipython3",
   "version": "3.6.8"
  }
 },
 "nbformat": 4,
 "nbformat_minor": 2
}
