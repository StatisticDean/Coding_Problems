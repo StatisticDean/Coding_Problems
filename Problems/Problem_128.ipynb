{
 "cells": [
  {
   "cell_type": "markdown",
   "metadata": {},
   "source": [
    "The Tower of Hanoi is a puzzle game with three rods and n disks, each a different size.\n",
    "\n",
    "All the disks start off on the first rod in a stack. They are ordered by size, with the largest disk on the bottom and the smallest one at the top.\n",
    "\n",
    "The goal of this puzzle is to move all the disks from the first rod to the last rod while following these rules:\n",
    "\n",
    "You can only move one disk at a time.\n",
    "A move consists of taking the uppermost disk from one of the stacks and placing it on top of another stack.\n",
    "You cannot place a larger disk on top of a smaller disk.\n",
    "Write a function that prints out all the steps necessary to complete the Tower of Hanoi. You should assume that the rods are numbered, with the first rod being 1, the second (auxiliary) rod being 2, and the last (goal) rod being 3.\n",
    "\n",
    "For example, with n = 3, we can do this in 7 moves:"
   ]
  },
  {
   "cell_type": "raw",
   "metadata": {},
   "source": [
    "Move 1 to 3\n",
    "Move 1 to 2\n",
    "Move 3 to 2\n",
    "Move 1 to 3\n",
    "Move 2 to 1\n",
    "Move 2 to 3\n",
    "Move 1 to 3"
   ]
  },
  {
   "cell_type": "code",
   "execution_count": null,
   "metadata": {},
   "outputs": [],
   "source": []
  }
 ],
 "metadata": {
  "kernelspec": {
   "display_name": "Python 3",
   "language": "python",
   "name": "python3"
  },
  "language_info": {
   "codemirror_mode": {
    "name": "ipython",
    "version": 3
   },
   "file_extension": ".py",
   "mimetype": "text/x-python",
   "name": "python",
   "nbconvert_exporter": "python",
   "pygments_lexer": "ipython3",
   "version": "3.6.8"
  }
 },
 "nbformat": 4,
 "nbformat_minor": 2
}
