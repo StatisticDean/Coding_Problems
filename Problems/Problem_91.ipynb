{
 "cells": [
  {
   "cell_type": "markdown",
   "metadata": {},
   "source": [
    "This problem was asked by Dropbox.\n",
    "\n",
    "What does the below code snippet print out? How can we fix the anonymous functions to behave as we'd expect?"
   ]
  },
  {
   "cell_type": "raw",
   "metadata": {},
   "source": [
    "functions = []\n",
    "for i in range(10):\n",
    "    functions.append(lambda : i)\n",
    "\n",
    "for f in functions:\n",
    "    print(f())"
   ]
  },
  {
   "cell_type": "code",
   "execution_count": null,
   "metadata": {},
   "outputs": [],
   "source": []
  }
 ],
 "metadata": {
  "kernelspec": {
   "display_name": "Python 3",
   "language": "python",
   "name": "python3"
  },
  "language_info": {
   "codemirror_mode": {
    "name": "ipython",
    "version": 3
   },
   "file_extension": ".py",
   "mimetype": "text/x-python",
   "name": "python",
   "nbconvert_exporter": "python",
   "pygments_lexer": "ipython3",
   "version": "3.6.8"
  }
 },
 "nbformat": 4,
 "nbformat_minor": 2
}
