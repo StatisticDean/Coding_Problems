{
 "cells": [
  {
   "cell_type": "markdown",
   "metadata": {},
   "source": [
    "This problem was asked by Google.\n",
    "\n",
    "In a directed graph, each node is assigned an uppercase letter. We define a path's value as the number of most frequently-occurring letter along that path. For example, if a path in the graph goes through \"ABACA\", the value of the path is 3, since there are 3 occurrences of 'A' on the path.\n",
    "\n",
    "Given a graph with n nodes and m directed edges, return the largest value path of the graph. If the largest value is infinite, then return null.\n",
    "\n",
    "The graph is represented with a string and an edge list. The i-th character represents the uppercase letter of the i-th node. Each tuple in the edge list (i, j) means there is a directed edge from the i-th node to the j-th node. Self-edges are possible, as well as multi-edges.\n",
    "\n",
    "For example, the following input graph:\n",
    "\n",
    "ABACA  \n",
    "[(0, 1),  \n",
    " (0, 2),  \n",
    " (2, 3),  \n",
    " (3, 4)]  \n",
    "Would have maximum value 3 using the path of vertices [0, 2, 3, 4], (A, A, C, A).\n",
    "\n",
    "The following input graph:\n",
    "\n",
    "A  \n",
    "[(0, 0)]  \n",
    "Should return null, since we have an infinite loop."
   ]
  },
  {
   "cell_type": "code",
   "execution_count": null,
   "metadata": {},
   "outputs": [],
   "source": []
  }
 ],
 "metadata": {
  "kernelspec": {
   "display_name": "Python 3",
   "language": "python",
   "name": "python3"
  },
  "language_info": {
   "codemirror_mode": {
    "name": "ipython",
    "version": 3
   },
   "file_extension": ".py",
   "mimetype": "text/x-python",
   "name": "python",
   "nbconvert_exporter": "python",
   "pygments_lexer": "ipython3",
   "version": "3.6.8"
  }
 },
 "nbformat": 4,
 "nbformat_minor": 2
}
