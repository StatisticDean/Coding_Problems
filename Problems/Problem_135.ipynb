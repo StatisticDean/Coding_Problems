{
 "cells": [
  {
   "cell_type": "markdown",
   "metadata": {},
   "source": [
    "This question was asked by Apple.\n",
    "\n",
    "Given a binary tree, find a minimum path sum from root to a leaf.\n",
    "\n",
    "For example, the minimum path in this tree is [10, 5, 1, -1], which has sum 15."
   ]
  },
  {
   "cell_type": "raw",
   "metadata": {},
   "source": [
    "  10\n",
    " /  \\\n",
    "5    5\n",
    " \\     \\\n",
    "   2    1\n",
    "       /\n",
    "     -1"
   ]
  },
  {
   "cell_type": "code",
   "execution_count": null,
   "metadata": {},
   "outputs": [],
   "source": []
  }
 ],
 "metadata": {
  "kernelspec": {
   "display_name": "Python 3",
   "language": "python",
   "name": "python3"
  },
  "language_info": {
   "codemirror_mode": {
    "name": "ipython",
    "version": 3
   },
   "file_extension": ".py",
   "mimetype": "text/x-python",
   "name": "python",
   "nbconvert_exporter": "python",
   "pygments_lexer": "ipython3",
   "version": "3.6.8"
  }
 },
 "nbformat": 4,
 "nbformat_minor": 2
}
