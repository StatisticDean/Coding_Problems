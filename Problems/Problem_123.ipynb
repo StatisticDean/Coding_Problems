{
 "cells": [
  {
   "cell_type": "markdown",
   "metadata": {},
   "source": [
    "This problem was asked by LinkedIn.\n",
    "\n",
    "Given a string, return whether it represents a number. Here are the different kinds of numbers:\n",
    "\n",
    "\"10\", a positive integer  \n",
    "\"-10\", a negative integer  \n",
    "\"10.1\", a positive real number  \n",
    "\"-10.1\", a negative real number  \n",
    "\"1e5\", a number in scientific notation  \n",
    "And here are examples of non-numbers:  \n",
    "\n",
    "\"a\"  \n",
    "\"x 1\"  \n",
    "\"a -2\"  \n",
    "\"-\"  \n"
   ]
  },
  {
   "cell_type": "code",
   "execution_count": null,
   "metadata": {},
   "outputs": [],
   "source": []
  }
 ],
 "metadata": {
  "kernelspec": {
   "display_name": "Python 3",
   "language": "python",
   "name": "python3"
  },
  "language_info": {
   "codemirror_mode": {
    "name": "ipython",
    "version": 3
   },
   "file_extension": ".py",
   "mimetype": "text/x-python",
   "name": "python",
   "nbconvert_exporter": "python",
   "pygments_lexer": "ipython3",
   "version": "3.6.8"
  }
 },
 "nbformat": 4,
 "nbformat_minor": 2
}
