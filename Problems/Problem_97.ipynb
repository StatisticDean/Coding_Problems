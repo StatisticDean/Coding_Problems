{
 "cells": [
  {
   "cell_type": "markdown",
   "metadata": {},
   "source": [
    "This problem was asked by Stripe.\n",
    "\n",
    "Write a map implementation with a get function that lets you retrieve the value of a key at a particular time.\n",
    "\n",
    "It should contain the following methods:\n",
    "\n",
    "- set(key, value, time): sets key to value for t = time.\n",
    "- get(key, time): gets the key at t = time.\n",
    "The map should work like this. If we set a key at a particular time, it will maintain that value forever or until it gets set at a later time. In other words, when we get a key at a time, it should return the value that was set for that key set at the most recent time.\n",
    "\n",
    "Consider the following examples:"
   ]
  },
  {
   "cell_type": "raw",
   "metadata": {},
   "source": [
    "d.set(1, 1, 0) # set key 1 to value 1 at time 0\n",
    "d.set(1, 2, 2) # set key 1 to value 2 at time 2\n",
    "d.get(1, 1) # get key 1 at time 1 should be 1\n",
    "d.get(1, 3) # get key 1 at time 3 should be 2"
   ]
  },
  {
   "cell_type": "raw",
   "metadata": {},
   "source": [
    "d.set(1, 1, 5) # set key 1 to value 1 at time 5\n",
    "d.get(1, 0) # get key 1 at time 0 should be null\n",
    "d.get(1, 10) # get key 1 at time 10 should be 1"
   ]
  },
  {
   "cell_type": "raw",
   "metadata": {},
   "source": [
    "d.set(1, 1, 0) # set key 1 to value 1 at time 0\n",
    "d.set(1, 2, 0) # set key 1 to value 2 at time 0\n",
    "d.get(1, 0) # get key 1 at time 0 should be 2"
   ]
  },
  {
   "cell_type": "code",
   "execution_count": null,
   "metadata": {},
   "outputs": [],
   "source": []
  }
 ],
 "metadata": {
  "kernelspec": {
   "display_name": "Python 3",
   "language": "python",
   "name": "python3"
  },
  "language_info": {
   "codemirror_mode": {
    "name": "ipython",
    "version": 3
   },
   "file_extension": ".py",
   "mimetype": "text/x-python",
   "name": "python",
   "nbconvert_exporter": "python",
   "pygments_lexer": "ipython3",
   "version": "3.6.8"
  }
 },
 "nbformat": 4,
 "nbformat_minor": 2
}
