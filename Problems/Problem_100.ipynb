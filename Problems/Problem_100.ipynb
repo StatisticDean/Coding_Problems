{
 "cells": [
  {
   "cell_type": "markdown",
   "metadata": {},
   "source": [
    "This problem was asked by Google.\n",
    "\n",
    "You are in an infinite 2D grid where you can move in any of the 8 directions:"
   ]
  },
  {
   "cell_type": "raw",
   "metadata": {},
   "source": [
    " (x,y) to\n",
    "    (x+1, y),\n",
    "    (x - 1, y),\n",
    "    (x, y+1),\n",
    "    (x, y-1),\n",
    "    (x-1, y-1),\n",
    "    (x+1,y+1),\n",
    "    (x-1,y+1),\n",
    "    (x+1,y-1)"
   ]
  },
  {
   "cell_type": "markdown",
   "metadata": {},
   "source": [
    "You are given a sequence of points and the order in which you need to cover the points. Give the minimum number of steps in which you can achieve it. You start from the first point.\n",
    "\n",
    "Example:\n",
    "\n",
    "Input: [(0, 0), (1, 1), (1, 2)]  \n",
    "Output: 2  \n",
    "It takes 1 step to move from (0, 0) to (1, 1). It takes one more step to move from (1, 1) to (1, 2)."
   ]
  },
  {
   "cell_type": "code",
   "execution_count": null,
   "metadata": {},
   "outputs": [],
   "source": []
  }
 ],
 "metadata": {
  "kernelspec": {
   "display_name": "Python 3",
   "language": "python",
   "name": "python3"
  },
  "language_info": {
   "codemirror_mode": {
    "name": "ipython",
    "version": 3
   },
   "file_extension": ".py",
   "mimetype": "text/x-python",
   "name": "python",
   "nbconvert_exporter": "python",
   "pygments_lexer": "ipython3",
   "version": "3.6.8"
  }
 },
 "nbformat": 4,
 "nbformat_minor": 2
}
