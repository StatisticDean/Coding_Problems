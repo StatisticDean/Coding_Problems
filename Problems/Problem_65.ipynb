{
 "cells": [
  {
   "cell_type": "markdown",
   "metadata": {},
   "source": [
    "This problem was asked by Amazon.\n",
    "\n",
    "Given a N by M matrix of numbers, print out the matrix in a clockwise spiral.\n",
    "\n",
    "For example, given the following matrix:\n",
    "\n",
    "[[1,  2,  3,  4,  5],  \n",
    " [6,  7,  8,  9,  10],  \n",
    " [11, 12, 13, 14, 15],  \n",
    " [16, 17, 18, 19, 20]]  \n",
    "You should print out the following:\n",
    "\n",
    "1  \n",
    "2  \n",
    "3  \n",
    "4  \n",
    "5  \n",
    "10  \n",
    "15  \n",
    "20  \n",
    "19  \n",
    "18  \n",
    "17  \n",
    "16  \n",
    "11  \n",
    "6  \n",
    "7  \n",
    "8  \n",
    "9  \n",
    "14  \n",
    "13  \n",
    "12  "
   ]
  },
  {
   "cell_type": "code",
   "execution_count": null,
   "metadata": {},
   "outputs": [],
   "source": []
  }
 ],
 "metadata": {
  "kernelspec": {
   "display_name": "Python 3",
   "language": "python",
   "name": "python3"
  },
  "language_info": {
   "codemirror_mode": {
    "name": "ipython",
    "version": 3
   },
   "file_extension": ".py",
   "mimetype": "text/x-python",
   "name": "python",
   "nbconvert_exporter": "python",
   "pygments_lexer": "ipython3",
   "version": "3.6.8"
  }
 },
 "nbformat": 4,
 "nbformat_minor": 2
}
