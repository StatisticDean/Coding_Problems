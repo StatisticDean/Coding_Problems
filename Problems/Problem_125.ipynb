{
 "cells": [
  {
   "cell_type": "markdown",
   "metadata": {},
   "source": [
    "This problem was asked by Google.\n",
    "\n",
    "Given the root of a binary search tree, and a target K, return two nodes in the tree whose sum equals K.\n",
    "\n",
    "For example, given the following tree and K of 20"
   ]
  },
  {
   "cell_type": "raw",
   "metadata": {},
   "source": [
    "    10\n",
    "   /   \\\n",
    " 5      15\n",
    "       /  \\\n",
    "     11    15"
   ]
  },
  {
   "cell_type": "markdown",
   "metadata": {},
   "source": [
    "Return the nodes 5 and 15."
   ]
  },
  {
   "cell_type": "code",
   "execution_count": null,
   "metadata": {},
   "outputs": [],
   "source": []
  }
 ],
 "metadata": {
  "kernelspec": {
   "display_name": "Python 3",
   "language": "python",
   "name": "python3"
  },
  "language_info": {
   "codemirror_mode": {
    "name": "ipython",
    "version": 3
   },
   "file_extension": ".py",
   "mimetype": "text/x-python",
   "name": "python",
   "nbconvert_exporter": "python",
   "pygments_lexer": "ipython3",
   "version": "3.6.8"
  }
 },
 "nbformat": 4,
 "nbformat_minor": 2
}
