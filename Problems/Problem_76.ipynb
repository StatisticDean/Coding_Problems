{
 "cells": [
  {
   "cell_type": "markdown",
   "metadata": {},
   "source": [
    "This problem was asked by Google.\n",
    "\n",
    "You are given an N by M 2D matrix of lowercase letters. Determine the minimum number of columns that can be removed to ensure that each row is ordered from top to bottom lexicographically. That is, the letter at each column is lexicographically later as you go down each row. It does not matter whether each row itself is ordered lexicographically.\n",
    "\n",
    "For example, given the following table:"
   ]
  },
  {
   "cell_type": "raw",
   "metadata": {},
   "source": [
    "cba\n",
    "daf\n",
    "ghi"
   ]
  },
  {
   "cell_type": "markdown",
   "metadata": {},
   "source": [
    "This is not ordered because of the a in the center. We can remove the second column to make it ordered:"
   ]
  },
  {
   "cell_type": "raw",
   "metadata": {},
   "source": [
    "ca\n",
    "df\n",
    "gi"
   ]
  },
  {
   "cell_type": "markdown",
   "metadata": {},
   "source": [
    "So your function should return 1, since we only needed to remove 1 column.\n",
    "\n",
    "As another example, given the following table:"
   ]
  },
  {
   "cell_type": "raw",
   "metadata": {},
   "source": [
    "abcdef"
   ]
  },
  {
   "cell_type": "markdown",
   "metadata": {},
   "source": [
    "Your function should return 0, since the rows are already ordered (there's only one row).\n",
    "\n",
    "As another example, given the following table:"
   ]
  },
  {
   "cell_type": "raw",
   "metadata": {},
   "source": [
    "zyx\n",
    "wvu\n",
    "tsr"
   ]
  },
  {
   "cell_type": "markdown",
   "metadata": {},
   "source": [
    "Your function should return 3, since we would need to remove all the columns to order it."
   ]
  },
  {
   "cell_type": "code",
   "execution_count": null,
   "metadata": {},
   "outputs": [],
   "source": []
  }
 ],
 "metadata": {
  "kernelspec": {
   "display_name": "Python 3",
   "language": "python",
   "name": "python3"
  },
  "language_info": {
   "codemirror_mode": {
    "name": "ipython",
    "version": 3
   },
   "file_extension": ".py",
   "mimetype": "text/x-python",
   "name": "python",
   "nbconvert_exporter": "python",
   "pygments_lexer": "ipython3",
   "version": "3.6.8"
  }
 },
 "nbformat": 4,
 "nbformat_minor": 2
}
