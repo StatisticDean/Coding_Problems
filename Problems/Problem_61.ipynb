{
 "cells": [
  {
   "cell_type": "markdown",
   "metadata": {},
   "source": [
    "This problem was asked by Google.\n",
    "\n",
    "Implement integer exponentiation. That is, implement the pow(x, y) function, where x and y are integers and returns x^y.\n",
    "\n",
    "Do this faster than the naive method of repeated multiplication.\n",
    "\n",
    "For example, pow(2, 10) should return 1024."
   ]
  },
  {
   "cell_type": "code",
   "execution_count": null,
   "metadata": {},
   "outputs": [],
   "source": []
  }
 ],
 "metadata": {
  "kernelspec": {
   "display_name": "Python 3",
   "language": "python",
   "name": "python3"
  },
  "language_info": {
   "codemirror_mode": {
    "name": "ipython",
    "version": 3
   },
   "file_extension": ".py",
   "mimetype": "text/x-python",
   "name": "python",
   "nbconvert_exporter": "python",
   "pygments_lexer": "ipython3",
   "version": "3.6.8"
  }
 },
 "nbformat": 4,
 "nbformat_minor": 2
}
