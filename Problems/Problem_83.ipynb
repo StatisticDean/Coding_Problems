{
 "cells": [
  {
   "cell_type": "markdown",
   "metadata": {},
   "source": [
    "Good morning! Here's your coding interview problem for today.\n",
    "\n",
    "This problem was asked by Google.\n",
    "\n",
    "Invert a binary tree.\n",
    "\n",
    "For example, given the following tree:"
   ]
  },
  {
   "cell_type": "raw",
   "metadata": {},
   "source": [
    "    a\n",
    "   / \\\n",
    "  b   c\n",
    " / \\  /\n",
    "d   e f"
   ]
  },
  {
   "cell_type": "markdown",
   "metadata": {},
   "source": [
    "should become:"
   ]
  },
  {
   "cell_type": "raw",
   "metadata": {},
   "source": [
    "  a\n",
    " / \\\n",
    " c  b\n",
    " \\  / \\\n",
    "  f e  d"
   ]
  },
  {
   "cell_type": "code",
   "execution_count": null,
   "metadata": {},
   "outputs": [],
   "source": []
  }
 ],
 "metadata": {
  "kernelspec": {
   "display_name": "Python 3",
   "language": "python",
   "name": "python3"
  },
  "language_info": {
   "codemirror_mode": {
    "name": "ipython",
    "version": 3
   },
   "file_extension": ".py",
   "mimetype": "text/x-python",
   "name": "python",
   "nbconvert_exporter": "python",
   "pygments_lexer": "ipython3",
   "version": "3.6.8"
  }
 },
 "nbformat": 4,
 "nbformat_minor": 2
}
