{
 "cells": [
  {
   "cell_type": "markdown",
   "metadata": {},
   "source": [
    "This problem was asked by Uber.\n",
    "\n",
    "A rule looks like this:"
   ]
  },
  {
   "cell_type": "raw",
   "metadata": {},
   "source": [
    "A NE B"
   ]
  },
  {
   "cell_type": "markdown",
   "metadata": {},
   "source": [
    "This means this means point A is located northeast of point B."
   ]
  },
  {
   "cell_type": "raw",
   "metadata": {},
   "source": [
    "A SW C"
   ]
  },
  {
   "cell_type": "markdown",
   "metadata": {},
   "source": [
    "means that point A is southwest of C.\n",
    "\n",
    "Given a list of rules, check if the sum of the rules validate. For example:"
   ]
  },
  {
   "cell_type": "raw",
   "metadata": {},
   "source": [
    "A N B\n",
    "B NE C\n",
    "C N A"
   ]
  },
  {
   "cell_type": "markdown",
   "metadata": {},
   "source": [
    "does not validate, since A cannot be both north and south of C."
   ]
  },
  {
   "cell_type": "raw",
   "metadata": {},
   "source": [
    "A NW B\n",
    "A N B"
   ]
  },
  {
   "cell_type": "markdown",
   "metadata": {},
   "source": [
    "is considered valid."
   ]
  },
  {
   "cell_type": "code",
   "execution_count": null,
   "metadata": {},
   "outputs": [],
   "source": []
  }
 ],
 "metadata": {
  "kernelspec": {
   "display_name": "Python 3",
   "language": "python",
   "name": "python3"
  },
  "language_info": {
   "codemirror_mode": {
    "name": "ipython",
    "version": 3
   },
   "file_extension": ".py",
   "mimetype": "text/x-python",
   "name": "python",
   "nbconvert_exporter": "python",
   "pygments_lexer": "ipython3",
   "version": "3.6.8"
  }
 },
 "nbformat": 4,
 "nbformat_minor": 2
}
