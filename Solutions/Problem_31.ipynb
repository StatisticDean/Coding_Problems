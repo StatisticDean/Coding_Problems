{
 "cells": [
  {
   "cell_type": "markdown",
   "metadata": {},
   "source": [
    "This problem was asked by Google.\n",
    "\n",
    "The edit distance between two strings refers to the minimum number of character insertions, deletions, and substitutions required to change one string to the other. For example, the edit distance between “kitten” and “sitting” is three: substitute the “k” for “s”, substitute the “e” for “i”, and append a “g”.\n",
    "\n",
    "Given two strings, compute the edit distance between them.\n",
    "\n"
   ]
  },
  {
   "cell_type": "markdown",
   "metadata": {},
   "source": [
    "# Solution"
   ]
  },
  {
   "cell_type": "code",
   "execution_count": 1,
   "metadata": {},
   "outputs": [],
   "source": [
    "import numpy as np\n",
    "\n",
    "def edit_distance(s1, s2):\n",
    "    l1 = len(s1)\n",
    "    l2 = len(s2)\n",
    "    m_dist = np.zeros((l1 + 1, l2 + 1)).astype(int)\n",
    "    for i in range(l1 + 1):\n",
    "        m_dist[i, 0] = i\n",
    "    for j in range(l2 + 1):\n",
    "        m_dist[0, j] = j\n",
    "    for i in range(1, l1 + 1):\n",
    "        for j in range(1, l2 + 1):\n",
    "            m_dist[i, j] = min(1 + m_dist[i, j - 1],\n",
    "                               1 + m_dist[i - 1, j],\n",
    "                               int(s1[i - 1] != s2[j - 1]) + m_dist[i - 1, j - 1])\n",
    "    return m_dist[l1, l2]"
   ]
  },
  {
   "cell_type": "code",
   "execution_count": 2,
   "metadata": {},
   "outputs": [],
   "source": [
    "assert edit_distance('kitten', 'sitting') == 3\n",
    "assert edit_distance('intention', 'execution') == 5"
   ]
  },
  {
   "cell_type": "code",
   "execution_count": null,
   "metadata": {},
   "outputs": [],
   "source": []
  }
 ],
 "metadata": {
  "kernelspec": {
   "display_name": "Python 3",
   "language": "python",
   "name": "python3"
  },
  "language_info": {
   "codemirror_mode": {
    "name": "ipython",
    "version": 3
   },
   "file_extension": ".py",
   "mimetype": "text/x-python",
   "name": "python",
   "nbconvert_exporter": "python",
   "pygments_lexer": "ipython3",
   "version": "3.7.1"
  }
 },
 "nbformat": 4,
 "nbformat_minor": 2
}
