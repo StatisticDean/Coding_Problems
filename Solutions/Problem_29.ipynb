{
 "cells": [
  {
   "cell_type": "markdown",
   "metadata": {},
   "source": [
    "This problem was asked by Amazon.\n",
    "\n",
    "Run-length encoding is a fast and simple method of encoding strings. The basic idea is to represent repeated successive characters as a single count and character. For example, the string \"AAAABBBCCDAA\" would be encoded as \"4A3B2C1D2A\".\n",
    "\n",
    "Implement run-length encoding and decoding. You can assume the string to be encoded have no digits and consists solely of alphabetic characters. You can assume the string to be decoded is valid."
   ]
  },
  {
   "cell_type": "markdown",
   "metadata": {},
   "source": [
    "# Solution"
   ]
  },
  {
   "cell_type": "code",
   "execution_count": 1,
   "metadata": {},
   "outputs": [],
   "source": [
    "def encode(text):\n",
    "    if not text:\n",
    "        return ''\n",
    "    last_char = ''\n",
    "    n_rep = 0\n",
    "    encoded_text = ''\n",
    "    for c in text:\n",
    "        if c != last_char:\n",
    "            if n_rep > 0:\n",
    "                encoded_text += str(n_rep) + last_char\n",
    "            last_char = c\n",
    "            n_rep = 1\n",
    "        else:\n",
    "            n_rep += 1\n",
    "    encoded_text += str(n_rep) + last_char\n",
    "    return encoded_text\n",
    "        "
   ]
  },
  {
   "cell_type": "code",
   "execution_count": 2,
   "metadata": {},
   "outputs": [],
   "source": [
    "def decode(text):\n",
    "    if not text:\n",
    "        return ''\n",
    "    decoded_text = ''\n",
    "    n_rep = 0\n",
    "    list_digit = [f'{i}' for i in range(10)]\n",
    "    for c in text:\n",
    "        if c in list_digit:\n",
    "            n_rep = 10 * n_rep + int(c)\n",
    "        else:\n",
    "            decoded_text += n_rep * c\n",
    "            n_rep = 0\n",
    "    return decoded_text"
   ]
  },
  {
   "cell_type": "code",
   "execution_count": 3,
   "metadata": {},
   "outputs": [],
   "source": [
    "assert encode('AAAABBBCCDAA') == '4A3B2C1D2A'\n",
    "assert decode('4A3B2C1D2A') == 'AAAABBBCCDAA'"
   ]
  },
  {
   "cell_type": "code",
   "execution_count": null,
   "metadata": {},
   "outputs": [],
   "source": []
  }
 ],
 "metadata": {
  "kernelspec": {
   "display_name": "Python 3",
   "language": "python",
   "name": "python3"
  },
  "language_info": {
   "codemirror_mode": {
    "name": "ipython",
    "version": 3
   },
   "file_extension": ".py",
   "mimetype": "text/x-python",
   "name": "python",
   "nbconvert_exporter": "python",
   "pygments_lexer": "ipython3",
   "version": "3.7.1"
  }
 },
 "nbformat": 4,
 "nbformat_minor": 2
}
