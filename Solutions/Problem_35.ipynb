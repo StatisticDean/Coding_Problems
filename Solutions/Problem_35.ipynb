{
 "cells": [
  {
   "cell_type": "markdown",
   "metadata": {},
   "source": [
    "This problem was asked by Google.\n",
    "\n",
    "Given an array of strictly the characters 'R', 'G', and 'B', segregate the values of the array so that all the Rs come first, the Gs come second, and the Bs come last. You can only swap elements of the array.\n",
    "\n",
    "Do this in linear time and in-place.\n",
    "\n",
    "For example, given the array ['G', 'B', 'R', 'R', 'B', 'R', 'G'], it should become ['R', 'R', 'R', 'G', 'G', 'B', 'B']."
   ]
  },
  {
   "cell_type": "markdown",
   "metadata": {},
   "source": [
    "# Solution"
   ]
  },
  {
   "cell_type": "code",
   "execution_count": 1,
   "metadata": {},
   "outputs": [],
   "source": [
    "def segregate(array):\n",
    "    n = len(array)\n",
    "    last_R = 0\n",
    "    last_B = n - 1\n",
    "    i = 0\n",
    "    while i <= last_B:\n",
    "        j = array[i]\n",
    "        if j == 'R':\n",
    "            array[last_R], array[i] = j, array[last_R]\n",
    "            last_R += 1\n",
    "            i += 1\n",
    "        elif j == 'B':\n",
    "            array[last_B], array[i] = j, array[last_B]\n",
    "            last_B += -1\n",
    "        else:\n",
    "            i += 1"
   ]
  },
  {
   "cell_type": "code",
   "execution_count": 2,
   "metadata": {},
   "outputs": [],
   "source": [
    "array = ['G', 'B', 'R', 'R', 'B', 'R', 'G']\n",
    "segregate(array)\n",
    "assert array == ['R', 'R', 'R', 'G', 'G', 'B', 'B']"
   ]
  },
  {
   "cell_type": "code",
   "execution_count": null,
   "metadata": {},
   "outputs": [],
   "source": []
  }
 ],
 "metadata": {
  "kernelspec": {
   "display_name": "Python 3",
   "language": "python",
   "name": "python3"
  },
  "language_info": {
   "codemirror_mode": {
    "name": "ipython",
    "version": 3
   },
   "file_extension": ".py",
   "mimetype": "text/x-python",
   "name": "python",
   "nbconvert_exporter": "python",
   "pygments_lexer": "ipython3",
   "version": "3.7.1"
  }
 },
 "nbformat": 4,
 "nbformat_minor": 2
}
