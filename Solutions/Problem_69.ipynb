{
 "cells": [
  {
   "cell_type": "markdown",
   "metadata": {},
   "source": [
    "This problem was asked by Facebook.\n",
    "\n",
    "Given a list of integers, return the largest product that can be made by multiplying any three integers.\n",
    "\n",
    "For example, if the list is [-10, -10, 5, 2], we should return 500, since that's -10 * -10 * 5.\n",
    "\n",
    "You can assume the list has at least three integers."
   ]
  },
  {
   "cell_type": "markdown",
   "metadata": {},
   "source": [
    "# Solution"
   ]
  },
  {
   "cell_type": "code",
   "execution_count": 1,
   "metadata": {},
   "outputs": [],
   "source": [
    "def biggest_elem(l, n):\n",
    "    if len(l) < n:\n",
    "        print(\" Invalid Input \") \n",
    "        return\n",
    "    list_max = []\n",
    "    for i in l:\n",
    "        to_append = True\n",
    "        for k, m in enumerate(list_max):\n",
    "            if i > m:\n",
    "                to_append = False\n",
    "                if len(list_max) < n:\n",
    "                    list_max = list_max[:k] + [i] + list_max[k:]\n",
    "                else:\n",
    "                    list_max[k+1:] = list_max[k:-1]\n",
    "                    list_max[k] = i\n",
    "                break\n",
    "        if len(list_max) < n and to_append:\n",
    "            list_max.append(i)\n",
    "    return list_max\n",
    "                \n",
    "\n",
    "def largest_product(l):\n",
    "    if len(l) == 3:\n",
    "        return l[0] * l[1] * l[2]\n",
    "    list_pos = [x for x in l if x >= 0]\n",
    "    if list_pos == []:\n",
    "        list_neg = [x for x in l if x < 0]\n",
    "        l_m = biggest_elem(list_neg, 3)\n",
    "        return l_m[0] * l_m[1] * l_m[2]\n",
    "    list_neg = [- x for x in l if x < 0]\n",
    "    if len(list_pos) == 1:\n",
    "        l_m_n = biggest_elem(list_neg, 2)\n",
    "        return l_m_n[0] * l_m_n[1] * list_pos[0]\n",
    "    if len(list_pos) == 2:\n",
    "        if len(list_neg) == 1:\n",
    "            return list_pos[0] * list_pos[1] * list_neg[0]\n",
    "        else:\n",
    "            l_m_n = biggest_elem(list_neg, 2)\n",
    "            return l_m_n[0] * l_m_n[1] * max(list_pos)\n",
    "    l_m_n = biggest_elem(list_neg, 2)\n",
    "    l_m_p = biggest_elem(list_pos, 3)\n",
    "    return l_m_p[0] * max(l_m_n[0] * l_m_n[1], l_m_p[1] * l_m_p[2])\n",
    "        \n",
    "        "
   ]
  },
  {
   "cell_type": "code",
   "execution_count": 2,
   "metadata": {},
   "outputs": [],
   "source": [
    "assert largest_product([-10, -10, 5, 2]) == 500\n",
    "assert largest_product([-1, -2, -3, -4]) == -6\n",
    "assert largest_product([-1,-1, 1, 4, 3]) == 12"
   ]
  },
  {
   "cell_type": "code",
   "execution_count": null,
   "metadata": {},
   "outputs": [],
   "source": []
  }
 ],
 "metadata": {
  "kernelspec": {
   "display_name": "Python 3",
   "language": "python",
   "name": "python3"
  },
  "language_info": {
   "codemirror_mode": {
    "name": "ipython",
    "version": 3
   },
   "file_extension": ".py",
   "mimetype": "text/x-python",
   "name": "python",
   "nbconvert_exporter": "python",
   "pygments_lexer": "ipython3",
   "version": "3.6.8"
  }
 },
 "nbformat": 4,
 "nbformat_minor": 2
}
