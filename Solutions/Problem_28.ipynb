{
 "cells": [
  {
   "cell_type": "markdown",
   "metadata": {},
   "source": [
    "This problem was asked by Palantir.\n",
    "\n",
    "Write an algorithm to justify text. Given a sequence of words and an integer line length k, return a list of strings which represents each line, fully justified.\n",
    "\n",
    "More specifically, you should have as many words as possible in each line. There should be at least one space between each word. Pad extra spaces when necessary so that each line has exactly length k. Spaces should be distributed as equally as possible, with the extra spaces, if any, distributed starting from the left.\n",
    "\n",
    "If you can only fit one word on a line, then you should pad the right-hand side with spaces.\n",
    "\n",
    "Each word is guaranteed not to be longer than k.\n",
    "\n",
    "For example, given the list of words [\"the\", \"quick\", \"brown\", \"fox\", \"jumps\", \"over\", \"the\", \"lazy\", \"dog\"] and k = 16, you should return the following:"
   ]
  },
  {
   "cell_type": "raw",
   "metadata": {},
   "source": [
    "[\"the  quick brown\", # 1 extra space on the left\n",
    "\"fox  jumps  over\", # 2 extra spaces distributed evenly\n",
    "\"the   lazy   dog\"] # 4 extra spaces distributed evenly"
   ]
  },
  {
   "cell_type": "markdown",
   "metadata": {},
   "source": [
    "# Solution"
   ]
  },
  {
   "cell_type": "code",
   "execution_count": 1,
   "metadata": {},
   "outputs": [],
   "source": [
    "def format_space(new_line, k, n_char):\n",
    "    n_word = len(new_line) - 1\n",
    "    if n_word ==0:\n",
    "        new_line[0] += (k-len(new_line[0]))*' '\n",
    "        return\n",
    "    spaces = k - n_char + n_word\n",
    "    r = spaces % n_word\n",
    "    for i, w in enumerate(new_line):\n",
    "        if i < n_word:\n",
    "            new_line[i] = w + (spaces // n_word + int(i < r))*' '\n",
    "\n",
    "\n",
    "def justify(list_words, k):\n",
    "    justified_text = []\n",
    "    new_line = []\n",
    "    n_char = -1\n",
    "    for word in list_words:\n",
    "        if len(word) + n_char + 1 > k:\n",
    "            format_space(new_line, k, n_char)\n",
    "            justified_text.append(''.join(new_line))\n",
    "            new_line = [word]\n",
    "            n_char = len(word)\n",
    "        else:\n",
    "            new_line.append(word)\n",
    "            n_char += len(word) + 1\n",
    "    format_space(new_line, k, n_char)\n",
    "    justified_text.append(''.join(new_line))\n",
    "    return justified_text\n",
    "            "
   ]
  },
  {
   "cell_type": "code",
   "execution_count": 2,
   "metadata": {},
   "outputs": [],
   "source": [
    "assert(justify([\"the\", \"quick\", \"brown\", \"fox\", \"jumps\", \"over\", \"the\", \"lazy\", \"dog\"], 16)\n",
    "       == [\"the  quick brown\",\n",
    "           \"fox  jumps  over\", \n",
    "           \"the   lazy   dog\"])"
   ]
  },
  {
   "cell_type": "code",
   "execution_count": null,
   "metadata": {},
   "outputs": [],
   "source": []
  }
 ],
 "metadata": {
  "kernelspec": {
   "display_name": "Python 3",
   "language": "python",
   "name": "python3"
  },
  "language_info": {
   "codemirror_mode": {
    "name": "ipython",
    "version": 3
   },
   "file_extension": ".py",
   "mimetype": "text/x-python",
   "name": "python",
   "nbconvert_exporter": "python",
   "pygments_lexer": "ipython3",
   "version": "3.7.1"
  }
 },
 "nbformat": 4,
 "nbformat_minor": 2
}
