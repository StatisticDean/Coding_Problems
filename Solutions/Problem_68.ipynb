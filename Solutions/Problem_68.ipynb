{
 "cells": [
  {
   "cell_type": "markdown",
   "metadata": {},
   "source": [
    "This problem was asked by Google.\n",
    "\n",
    "On our special chessboard, two bishops attack each other if they share the same diagonal. This includes bishops that have another bishop located between them, i.e. bishops can attack through pieces.\n",
    "\n",
    "You are given N bishops, represented as (row, column) tuples on a M by M chessboard. Write a function to count the number of pairs of bishops that attack each other. The ordering of the pair doesn't matter: (1, 2) is considered the same as (2, 1).\n",
    "\n",
    "For example, given M = 5 and the list of bishops:\n",
    "\n",
    "- (0, 0)\n",
    "- (1, 2)\n",
    "- (2, 2)\n",
    "- (4, 0)\n",
    "The board would look like this:\n",
    "\n",
    "[b 0 0 0 0]  \n",
    "[0 0 b 0 0]  \n",
    "[0 0 b 0 0]  \n",
    "[0 0 0 0 0]  \n",
    "[b 0 0 0 0]  \n",
    "You should return 2, since bishops 1 and 3 attack each other, as well as bishops 3 and 4."
   ]
  },
  {
   "cell_type": "markdown",
   "metadata": {},
   "source": [
    "# Solution"
   ]
  },
  {
   "cell_type": "markdown",
   "metadata": {},
   "source": [
    "We will count the number of bishop on every diagonal. Then for each diagonal, we can count the number of pair of bishop on that diagonal."
   ]
  },
  {
   "cell_type": "code",
   "execution_count": 1,
   "metadata": {},
   "outputs": [],
   "source": [
    "def count_attack(M, list_bishop):\n",
    "    list_diag_LD = [0 for i in range(2*M-1)]\n",
    "    list_diag_RD = [0 for i in range(2*M-1)]\n",
    "    for a, b in list_bishop:\n",
    "        list_diag_LD[M - 1 - a + b] += 1\n",
    "        list_diag_RD[a - b] += 1\n",
    "    n_pair = 0\n",
    "    for j in list_diag_LD + list_diag_RD:\n",
    "        n_pair += j * (j -1) // 2\n",
    "    return n_pair"
   ]
  },
  {
   "cell_type": "code",
   "execution_count": 2,
   "metadata": {},
   "outputs": [],
   "source": [
    "M = 5\n",
    "list_bishop = [(0, 0),\n",
    "               (1, 2),\n",
    "               (2, 2),\n",
    "               (4, 0)]\n",
    "assert count_attack(5, list_bishop) == 2"
   ]
  },
  {
   "cell_type": "code",
   "execution_count": null,
   "metadata": {},
   "outputs": [],
   "source": []
  }
 ],
 "metadata": {
  "kernelspec": {
   "display_name": "Python 3",
   "language": "python",
   "name": "python3"
  },
  "language_info": {
   "codemirror_mode": {
    "name": "ipython",
    "version": 3
   },
   "file_extension": ".py",
   "mimetype": "text/x-python",
   "name": "python",
   "nbconvert_exporter": "python",
   "pygments_lexer": "ipython3",
   "version": "3.6.8"
  }
 },
 "nbformat": 4,
 "nbformat_minor": 2
}
