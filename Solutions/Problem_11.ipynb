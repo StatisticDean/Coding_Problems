{
 "cells": [
  {
   "cell_type": "markdown",
   "metadata": {},
   "source": [
    "This problem was asked by Twitter.\n",
    "\n",
    "Implement an autocomplete system. That is, given a query string s and a set of all possible query strings, return all strings in the set that have s as a prefix.\n",
    "\n",
    "For example, given the query string de and the set of strings [dog, deer, deal], return [deer, deal].\n",
    "\n",
    "Hint: Try preprocessing the dictionary into a more efficient data structure to speed up queries."
   ]
  },
  {
   "cell_type": "markdown",
   "metadata": {},
   "source": [
    "# Solution"
   ]
  },
  {
   "cell_type": "markdown",
   "metadata": {},
   "source": [
    "## Naive solution"
   ]
  },
  {
   "cell_type": "code",
   "execution_count": 1,
   "metadata": {},
   "outputs": [],
   "source": [
    "def query(s, list_words):\n",
    "    list_outcome = []\n",
    "    n = len(s)\n",
    "    for word in list_words:\n",
    "        if s == word[:n]:\n",
    "            list_outcome.append(word)\n",
    "    return(list_outcome)"
   ]
  },
  {
   "cell_type": "code",
   "execution_count": 2,
   "metadata": {},
   "outputs": [],
   "source": [
    "assert query('de', ['dog', 'deer', 'deal']) == ['deer', 'deal']"
   ]
  },
  {
   "cell_type": "markdown",
   "metadata": {},
   "source": [
    "## Faster solution"
   ]
  },
  {
   "cell_type": "code",
   "execution_count": 3,
   "metadata": {},
   "outputs": [],
   "source": [
    "def preprocess(list_words, start_letter=0):\n",
    "    d = {}\n",
    "    for word in list_words:\n",
    "        if len(word) > start_letter:\n",
    "            if not word[start_letter] in d:\n",
    "                d[word[start_letter]] = [word]\n",
    "            else:\n",
    "                d[word[start_letter]].append(word)\n",
    "    for c, l in d.items():\n",
    "        d[c] = preprocess(l, start_letter + 1)\n",
    "    return list_words, d"
   ]
  },
  {
   "cell_type": "code",
   "execution_count": 4,
   "metadata": {},
   "outputs": [],
   "source": [
    "def query_from_preprocessed(s, preproccessed_data):\n",
    "    d = preprocessed_data\n",
    "    for c in s:\n",
    "        try:\n",
    "            d = d[1][c]\n",
    "        except:\n",
    "            return []\n",
    "    return d[0]"
   ]
  },
  {
   "cell_type": "code",
   "execution_count": 5,
   "metadata": {},
   "outputs": [],
   "source": [
    "preprocessed_data = preprocess(['dog', 'deer', 'deal'])"
   ]
  },
  {
   "cell_type": "code",
   "execution_count": 6,
   "metadata": {},
   "outputs": [],
   "source": [
    "assert query_from_preprocessed('de', preprocessed_data) == ['deer', 'deal']"
   ]
  },
  {
   "cell_type": "markdown",
   "metadata": {},
   "source": [
    "# Query time"
   ]
  },
  {
   "cell_type": "code",
   "execution_count": 7,
   "metadata": {},
   "outputs": [
    {
     "name": "stdout",
     "output_type": "stream",
     "text": [
      "['b', 'hmnu', 'prghoc', 'vpu', 'bgrcmjphk']\n"
     ]
    }
   ],
   "source": [
    "import random\n",
    "import string\n",
    "import timeit\n",
    "list_words = list(set([''.join(random.choices(string.ascii_lowercase, k= random.randint(1,10))) for i in range(1000)]))\n",
    "preprocessed_data = preprocess(list_words)\n",
    "print(list_words[:5])"
   ]
  },
  {
   "cell_type": "code",
   "execution_count": null,
   "metadata": {},
   "outputs": [
    {
     "name": "stdout",
     "output_type": "stream",
     "text": [
      "0.2736138820037013\n"
     ]
    }
   ],
   "source": [
    "def wrapped1():\n",
    "    return preprocess(list_words)\n",
    "def wrapped2():\n",
    "    return query(''.join(random.choices(string.ascii_lowercase, k= random.randint(1,5))), list_words)\n",
    "def wrapped3():\n",
    "    return query_from_preprocessed(''.join(random.choices(string.ascii_lowercase, k= random.randint(1,5))), preprocessed_data)\n",
    "    \n",
    "print(timeit.timeit(wrapped1, number=100))\n",
    "print(timeit.timeit(wrapped2, number=1000000))\n",
    "print(timeit.timeit(wrapped3, number=1000000))"
   ]
  },
  {
   "cell_type": "code",
   "execution_count": null,
   "metadata": {},
   "outputs": [],
   "source": []
  }
 ],
 "metadata": {
  "kernelspec": {
   "display_name": "Python 3",
   "language": "python",
   "name": "python3"
  },
  "language_info": {
   "codemirror_mode": {
    "name": "ipython",
    "version": 3
   },
   "file_extension": ".py",
   "mimetype": "text/x-python",
   "name": "python",
   "nbconvert_exporter": "python",
   "pygments_lexer": "ipython3",
   "version": "3.7.1"
  }
 },
 "nbformat": 4,
 "nbformat_minor": 2
}
