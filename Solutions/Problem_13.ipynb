{
 "cells": [
  {
   "cell_type": "markdown",
   "metadata": {},
   "source": [
    "This problem was asked by Amazon.\n",
    "\n",
    "Given an integer k and a string s, find the length of the longest substring that contains at most k distinct characters.\n",
    "\n",
    "For example, given s = \"abcba\" and k = 2, the longest substring with k distinct characters is \"bcb\"."
   ]
  },
  {
   "cell_type": "markdown",
   "metadata": {},
   "source": [
    "# Solution"
   ]
  },
  {
   "cell_type": "markdown",
   "metadata": {},
   "source": [
    "The longest substring verifying this must start somewhere, so we'll go through the string, and we'll look for the longest substring verifying this starting at each character. We'll then pick the longest one."
   ]
  },
  {
   "cell_type": "code",
   "execution_count": 1,
   "metadata": {},
   "outputs": [],
   "source": [
    "def longest_string_starting(s, k):\n",
    "    set_char = set()\n",
    "    n = 0\n",
    "    longest_string = ''\n",
    "    for j in s:\n",
    "        if j not in set_char:\n",
    "            set_char.add(j)\n",
    "            n += 1\n",
    "        if n > k:\n",
    "            break\n",
    "        longest_string += j\n",
    "    return longest_string, len(longest_string)"
   ]
  },
  {
   "cell_type": "code",
   "execution_count": 2,
   "metadata": {},
   "outputs": [],
   "source": [
    "def longest_string(s, k):\n",
    "    m = 0\n",
    "    longest_string = ''\n",
    "    for j in range(len(s)):\n",
    "        ls, sz = longest_string_starting(s[j:], k)\n",
    "        if sz > m:\n",
    "            m = sz\n",
    "            longest_string = ls\n",
    "    return(longest_string)"
   ]
  },
  {
   "cell_type": "code",
   "execution_count": 3,
   "metadata": {},
   "outputs": [],
   "source": [
    "assert longest_string('abcba', 2) == 'bcb'"
   ]
  },
  {
   "cell_type": "code",
   "execution_count": null,
   "metadata": {},
   "outputs": [],
   "source": []
  }
 ],
 "metadata": {
  "kernelspec": {
   "display_name": "Python 3",
   "language": "python",
   "name": "python3"
  },
  "language_info": {
   "codemirror_mode": {
    "name": "ipython",
    "version": 3
   },
   "file_extension": ".py",
   "mimetype": "text/x-python",
   "name": "python",
   "nbconvert_exporter": "python",
   "pygments_lexer": "ipython3",
   "version": "3.7.1"
  }
 },
 "nbformat": 4,
 "nbformat_minor": 2
}
