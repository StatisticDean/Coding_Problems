{
 "cells": [
  {
   "cell_type": "markdown",
   "metadata": {},
   "source": [
    "This problem was asked by Two Sigma.\n",
    "\n",
    "Using a function rand5() that returns an integer from 1 to 5 (inclusive) with uniform probability, implement a function rand7() that returns an integer from 1 to 7 (inclusive)."
   ]
  },
  {
   "cell_type": "markdown",
   "metadata": {},
   "source": [
    "# Solution"
   ]
  },
  {
   "cell_type": "code",
   "execution_count": 1,
   "metadata": {},
   "outputs": [],
   "source": [
    "import numpy as np\n",
    "def rand5():\n",
    "    return np.random.randint(1,6)"
   ]
  },
  {
   "cell_type": "code",
   "execution_count": 2,
   "metadata": {},
   "outputs": [],
   "source": [
    "def rand7():\n",
    "    while True:\n",
    "        x = rand5() - 1 + 5 * (rand5()-1)\n",
    "        if x < 21:\n",
    "            return x % 7 + 1\n",
    "        "
   ]
  },
  {
   "cell_type": "code",
   "execution_count": 3,
   "metadata": {},
   "outputs": [],
   "source": [
    "import matplotlib.pyplot as plt\n",
    "l = [rand7() for i in range(10 ** 5)]"
   ]
  },
  {
   "cell_type": "code",
   "execution_count": 4,
   "metadata": {},
   "outputs": [
    {
     "data": {
      "text/plain": [
       "([<matplotlib.axis.XTick at 0x7fa961e4beb8>,\n",
       "  <matplotlib.axis.XTick at 0x7fa961e4b710>,\n",
       "  <matplotlib.axis.XTick at 0x7fa961e4b358>,\n",
       "  <matplotlib.axis.XTick at 0x7fa961e16668>,\n",
       "  <matplotlib.axis.XTick at 0x7fa961e16b38>,\n",
       "  <matplotlib.axis.XTick at 0x7fa961e280b8>,\n",
       "  <matplotlib.axis.XTick at 0x7fa961e28518>],\n",
       " <a list of 7 Text xticklabel objects>)"
      ]
     },
     "execution_count": 4,
     "metadata": {},
     "output_type": "execute_result"
    },
    {
     "data": {
      "image/png": "[encoded data removed]",
      "text/plain": [
       "<Figure size 432x288 with 1 Axes>"
      ]
     },
     "metadata": {
      "needs_background": "light"
     },
     "output_type": "display_data"
    }
   ],
   "source": [
    "ind = np.arange(7)\n",
    "plt.bar(ind, np.bincount(l)[1:], width = 0.35)\n",
    "plt.ylabel('Number of occurence')\n",
    "plt.title('Number of occurence of numbers from 10^5 calls of rand7')\n",
    "plt.xticks(ind, (f'{i+1}' for i in range(7)))"
   ]
  },
  {
   "cell_type": "code",
   "execution_count": null,
   "metadata": {},
   "outputs": [],
   "source": []
  }
 ],
 "metadata": {
  "kernelspec": {
   "display_name": "Python 3",
   "language": "python",
   "name": "python3"
  },
  "language_info": {
   "codemirror_mode": {
    "name": "ipython",
    "version": 3
   },
   "file_extension": ".py",
   "mimetype": "text/x-python",
   "name": "python",
   "nbconvert_exporter": "python",
   "pygments_lexer": "ipython3",
   "version": "3.6.8"
  }
 },
 "nbformat": 4,
 "nbformat_minor": 2
}
