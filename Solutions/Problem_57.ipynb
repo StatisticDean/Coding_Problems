{
 "cells": [
  {
   "cell_type": "markdown",
   "metadata": {},
   "source": [
    "This problem was asked by Amazon.\n",
    "\n",
    "Given a string s and an integer k, break up the string into multiple lines such that each line has a length of k or less. You must break it up so that words don't break across lines. Each line has to have the maximum possible amount of words. If there's no way to break the text up, then return null.\n",
    "\n",
    "You can assume that there are no spaces at the ends of the string and that there is exactly one space between each word.\n",
    "\n",
    "For example, given the string \"the quick brown fox jumps over the lazy dog\" and k = 10, you should return: [\"the quick\", \"brown fox\", \"jumps over\", \"the lazy\", \"dog\"]. No string in the list has a length of more than 10."
   ]
  },
  {
   "cell_type": "markdown",
   "metadata": {},
   "source": [
    "# Solution"
   ]
  },
  {
   "cell_type": "code",
   "execution_count": 1,
   "metadata": {},
   "outputs": [],
   "source": [
    "def break_into_lines(text, k=10):\n",
    "    list_of_words = text.split(' ')\n",
    "    list_lines = []\n",
    "    current_line = \"\"\n",
    "    l = -1\n",
    "    for w in list_of_words:\n",
    "        n_letters = len(w)\n",
    "        if l + n_letters + 1 > k:\n",
    "            list_lines.append(current_line)\n",
    "            current_line = \"\"\n",
    "            l = -1\n",
    "            if n_letters > k:\n",
    "                return\n",
    "            l += n_letters + 1\n",
    "            current_line += w\n",
    "        else:\n",
    "            current_line += ' ' + w\n",
    "            l += n_letters + 1\n",
    "    list_lines.append(current_line)\n",
    "    list_lines[0] = list_lines[0][1:]\n",
    "    return list_lines\n",
    "        "
   ]
  },
  {
   "cell_type": "code",
   "execution_count": 2,
   "metadata": {},
   "outputs": [],
   "source": [
    "assert break_into_lines(\"the quick brown fox jumps over the lazy dog\") == [\"the quick\", \"brown fox\", \"jumps over\", \"the lazy\", \"dog\"]"
   ]
  },
  {
   "cell_type": "code",
   "execution_count": null,
   "metadata": {},
   "outputs": [],
   "source": []
  }
 ],
 "metadata": {
  "kernelspec": {
   "display_name": "Python 3",
   "language": "python",
   "name": "python3"
  },
  "language_info": {
   "codemirror_mode": {
    "name": "ipython",
    "version": 3
   },
   "file_extension": ".py",
   "mimetype": "text/x-python",
   "name": "python",
   "nbconvert_exporter": "python",
   "pygments_lexer": "ipython3",
   "version": "3.6.8"
  }
 },
 "nbformat": 4,
 "nbformat_minor": 2
}
