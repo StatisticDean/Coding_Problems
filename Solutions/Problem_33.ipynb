{
 "cells": [
  {
   "cell_type": "markdown",
   "metadata": {},
   "source": [
    "This problem was asked by Microsoft.\n",
    "\n",
    "Compute the running median of a sequence of numbers. That is, given a stream of numbers, print out the median of the list so far on each new element.\n",
    "\n",
    "Recall that the median of an even-numbered list is the average of the two middle numbers.\n",
    "\n",
    "For example, given the sequence [2, 1, 5, 7, 2, 0, 5], your algorithm should print out:\n",
    "\n",
    "2  \n",
    "1.5  \n",
    "2  \n",
    "3.5  \n",
    "2  \n",
    "2  \n",
    "2  "
   ]
  },
  {
   "cell_type": "markdown",
   "metadata": {},
   "source": [
    "# Solution"
   ]
  },
  {
   "cell_type": "code",
   "execution_count": 1,
   "metadata": {},
   "outputs": [],
   "source": [
    "import heapq\n",
    "\n",
    "def running_median(l):\n",
    "    min_heap = []\n",
    "    max_heap = []\n",
    "    n = 0\n",
    "    m = 0\n",
    "    for e in l:\n",
    "        if e < m:\n",
    "            heapq.heappush(max_heap, - e)\n",
    "            n += 1\n",
    "        else:\n",
    "            heapq.heappush(min_heap, e)\n",
    "            n -= 1\n",
    "        if n == 2:\n",
    "            heapq.heappush(min_heap, - heapq.heappop(max_heap))\n",
    "            n = 0\n",
    "        elif n == 1:\n",
    "            m = - max_heap[0]\n",
    "        elif n == -1:\n",
    "            m = min_heap[0]\n",
    "        elif n == -2:\n",
    "            heapq.heappush(max_heap, - heapq.heappop(min_heap))\n",
    "            n = 0\n",
    "        if (n % 2) == 0:\n",
    "            m = 0.5 * (min_heap[0] - max_heap[0])\n",
    "        print(m)\n",
    "            \n"
   ]
  },
  {
   "cell_type": "code",
   "execution_count": 2,
   "metadata": {},
   "outputs": [
    {
     "name": "stdout",
     "output_type": "stream",
     "text": [
      "2\n",
      "1.5\n",
      "2\n",
      "3.5\n",
      "2\n",
      "2.0\n",
      "2\n"
     ]
    }
   ],
   "source": [
    "running_median([2, 1, 5, 7, 2, 0, 5])"
   ]
  },
  {
   "cell_type": "code",
   "execution_count": null,
   "metadata": {},
   "outputs": [],
   "source": []
  }
 ],
 "metadata": {
  "kernelspec": {
   "display_name": "Python 3",
   "language": "python",
   "name": "python3"
  },
  "language_info": {
   "codemirror_mode": {
    "name": "ipython",
    "version": 3
   },
   "file_extension": ".py",
   "mimetype": "text/x-python",
   "name": "python",
   "nbconvert_exporter": "python",
   "pygments_lexer": "ipython3",
   "version": "3.7.1"
  }
 },
 "nbformat": 4,
 "nbformat_minor": 2
}
