{
 "cells": [
  {
   "cell_type": "markdown",
   "metadata": {},
   "source": [
    "This problem was asked by Google.\n",
    "\n",
    "Given an array of integers where every integer occurs three times except for one integer, which only occurs once, find and return the non-duplicated integer.\n",
    "\n",
    "For example, given [6, 1, 3, 3, 3, 6, 6], return 1. Given [13, 19, 13, 13], return 19.\n",
    "\n",
    "Do this in O(N) time and O(1) space."
   ]
  },
  {
   "cell_type": "markdown",
   "metadata": {},
   "source": [
    "# Solution"
   ]
  },
  {
   "cell_type": "markdown",
   "metadata": {},
   "source": [
    "## Remarks"
   ]
  },
  {
   "cell_type": "markdown",
   "metadata": {},
   "source": [
    "- If you sum all the number in the array, you get the rest of the unique number modulo 3.\n",
    "- If we had a commutative and associative operation o such that for all integers x : x o x o x = 0 and x o 0 = x, then we could apply this  \n",
    "operation to all of the elements of the array, and retrieve the unique element.\n",
    "- It is not very hard to create such an operation. Indeed, a solution to is inject the integers into a F3 vector space and use the sum of this vector space combined with the injection and it's reciprocical on its image to get our desired operation o.\n",
    "- To do so, we'll just calculate the representation of the numbers in base 3."
   ]
  },
  {
   "cell_type": "code",
   "execution_count": 1,
   "metadata": {},
   "outputs": [],
   "source": [
    "import sys\n",
    "from math import log"
   ]
  },
  {
   "cell_type": "code",
   "execution_count": 2,
   "metadata": {},
   "outputs": [],
   "source": [
    "max_size_array = int(log(sys.maxsize) / log(3)) + 1"
   ]
  },
  {
   "cell_type": "code",
   "execution_count": 3,
   "metadata": {},
   "outputs": [],
   "source": [
    "def to_base_3(x):\n",
    "    # We assume we are dealing with integers that are smaller than maxsize, and that those integers are positive.\n",
    "    l = [0 for i in range(max_size_array)]\n",
    "    q = x\n",
    "    for i in range(max_size_array):\n",
    "        q, r = q // 3, q % 3\n",
    "        l[i] = r\n",
    "        if q ==0:\n",
    "            break\n",
    "    return l\n",
    "\n",
    "def to_int_from_base_3(l):\n",
    "    s = 0\n",
    "    for j in l[::-1]:\n",
    "        s = s * 3 + j\n",
    "    return s"
   ]
  },
  {
   "cell_type": "code",
   "execution_count": 4,
   "metadata": {},
   "outputs": [],
   "source": [
    "def find_alone_number(l):\n",
    "    s = [0 for i in range(max_size_array)]\n",
    "    for j in l:\n",
    "        s = [(a + b) % 3 for a, b in zip(s, to_base_3(j))]\n",
    "    return to_int_from_base_3(s)"
   ]
  },
  {
   "cell_type": "code",
   "execution_count": 5,
   "metadata": {},
   "outputs": [],
   "source": [
    "assert find_alone_number([6, 1, 3, 3, 3, 6, 6]) == 1\n",
    "assert find_alone_number([13, 19, 13, 13]) == 19"
   ]
  },
  {
   "cell_type": "code",
   "execution_count": 6,
   "metadata": {},
   "outputs": [],
   "source": [
    "import numpy as np\n",
    "list_number = np.unique(np.random.randint(1,10 ** 7 , 10 ** 4))\n",
    "np.random.shuffle(list_number)\n",
    "obj = list_number[0]\n",
    "list_number = np.concatenate([[obj]] + [[i, i, i] for i in list_number[1:]])\n",
    "np.random.shuffle(list_number)"
   ]
  },
  {
   "cell_type": "code",
   "execution_count": 7,
   "metadata": {},
   "outputs": [],
   "source": [
    "assert find_alone_number(list_number) == obj"
   ]
  },
  {
   "cell_type": "code",
   "execution_count": null,
   "metadata": {},
   "outputs": [],
   "source": []
  }
 ],
 "metadata": {
  "kernelspec": {
   "display_name": "Python 3",
   "language": "python",
   "name": "python3"
  },
  "language_info": {
   "codemirror_mode": {
    "name": "ipython",
    "version": 3
   },
   "file_extension": ".py",
   "mimetype": "text/x-python",
   "name": "python",
   "nbconvert_exporter": "python",
   "pygments_lexer": "ipython3",
   "version": "3.6.8"
  }
 },
 "nbformat": 4,
 "nbformat_minor": 2
}
