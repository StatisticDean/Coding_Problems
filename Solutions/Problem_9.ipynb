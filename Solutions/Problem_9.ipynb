{
 "cells": [
  {
   "cell_type": "markdown",
   "metadata": {},
   "source": [
    "This problem was asked by Airbnb.\n",
    "\n",
    "Given a list of integers, write a function that returns the largest sum of non-adjacent numbers. Numbers can be 0 or negative.\n",
    "\n",
    "For example, [2, 4, 6, 2, 5] should return 13, since we pick 2, 6, and 5. [5, 1, 1, 5] should return 10, since we pick 5 and 5.\n",
    "\n",
    "Follow-up: Can you do this in O(N) time and constant space?"
   ]
  },
  {
   "cell_type": "markdown",
   "metadata": {},
   "source": [
    "# Solution"
   ]
  },
  {
   "cell_type": "markdown",
   "metadata": {},
   "source": [
    "## Remarks"
   ]
  },
  {
   "cell_type": "markdown",
   "metadata": {},
   "source": [
    "1. It's easy to deal with negative numbers. Any negative numbers can be not picked for a solution, and since it gives up a space, we only need to compute the maximum of the left and right sub array. For example, if our array is [5, 1, -1, 3, 4], we only need to compute the largest sum of non-adjacent numbers for the arrays [5, 1] and [3, 4].\n",
    "2. In fully positive arrays, we can only make jumps of size 1 or 2 in a solution. Indeed, if we make a jump of size >2, taking one more element in the middle will yield a higher sum while still using non-adjacent numbers."
   ]
  },
  {
   "cell_type": "markdown",
   "metadata": {},
   "source": [
    "# Algorithm"
   ]
  },
  {
   "cell_type": "code",
   "execution_count": 11,
   "metadata": {},
   "outputs": [],
   "source": [
    "def largest_sum_non_adj(l, prev=(0,0), m=0):\n",
    "    old_sum_1, old_sum_2 = prev\n",
    "    if len(l) == 0:\n",
    "        return old_sum_2\n",
    "    new_max = max(old_sum_2, old_sum_1 + l[0])\n",
    "    return largest_sum_non_adj(l[1:], prev = (old_sum_2, new_max))\n",
    "    "
   ]
  },
  {
   "cell_type": "code",
   "execution_count": 12,
   "metadata": {},
   "outputs": [],
   "source": [
    "assert largest_sum_non_adj([2, 4, 6, 2, 5]) == 13\n",
    "assert largest_sum_non_adj([5, 1, 1, 5]) == 10"
   ]
  },
  {
   "cell_type": "code",
   "execution_count": null,
   "metadata": {},
   "outputs": [],
   "source": []
  }
 ],
 "metadata": {
  "kernelspec": {
   "display_name": "Python 3",
   "language": "python",
   "name": "python3"
  },
  "language_info": {
   "codemirror_mode": {
    "name": "ipython",
    "version": 3
   },
   "file_extension": ".py",
   "mimetype": "text/x-python",
   "name": "python",
   "nbconvert_exporter": "python",
   "pygments_lexer": "ipython3",
   "version": "3.7.1"
  }
 },
 "nbformat": 4,
 "nbformat_minor": 2
}
