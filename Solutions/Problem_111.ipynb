{
 "cells": [
  {
   "cell_type": "markdown",
   "metadata": {},
   "source": [
    "This problem was asked by Google.\n",
    "\n",
    "Given a word W and a string S, find all starting indices in S which are anagrams of W.\n",
    "\n",
    "For example, given that W is \"ab\", and S is \"abxaba\", return 0, 3, and 4."
   ]
  },
  {
   "cell_type": "markdown",
   "metadata": {},
   "source": [
    "# Solution"
   ]
  },
  {
   "cell_type": "markdown",
   "metadata": {},
   "source": [
    "To check if a word is an anagram of an other word, we'll use a simple mapping from words quotiented by annagrams to a subset of the integers, to do that, we'll map each letter to a prime number and just calculate the product of all the 'letters', the result is the same if and only if the words are anagrams."
   ]
  },
  {
   "cell_type": "code",
   "execution_count": null,
   "metadata": {},
   "outputs": [],
   "source": [
    "def create_first_primes(n):\n",
    "    m = 2 * n**2 + 10\n",
    "    l = list(range(2, m))\n",
    "    num_primes = 0\n",
    "    while num_primes < n:\n",
    "        new_prime = l[num_primes]\n",
    "        l = l[:num_primes + 1] + [x for x in l[num_primes:] if x % new_prime != 0]\n",
    "        num_primes +=1\n",
    "    return l[:n]\n",
    "        \n",
    "    "
   ]
  },
  {
   "cell_type": "code",
   "execution_count": null,
   "metadata": {},
   "outputs": [],
   "source": [
    "list_primes = create_first_primes(26)"
   ]
  },
  {
   "cell_type": "code",
   "execution_count": null,
   "metadata": {},
   "outputs": [],
   "source": [
    "from functools import reduce\n",
    "from operator import mul\n",
    "\n",
    "def map_anagram_to_int(w):\n",
    "    return reduce(mul, map(lambda x: list_primes[ord(x.lower())-96], list(w)))"
   ]
  },
  {
   "cell_type": "code",
   "execution_count": null,
   "metadata": {},
   "outputs": [],
   "source": [
    "def list_index_of_anagrams(W, S):\n",
    "    n = len(S)-len(W) + 1\n",
    "    W_map = map_anagram_to_int(W)\n",
    "    return [index for index in range(n) if map_anagram_to_int(S[index:index+len(W)]) == W_map]\n",
    "    "
   ]
  },
  {
   "cell_type": "code",
   "execution_count": null,
   "metadata": {},
   "outputs": [],
   "source": [
    "assert list_index_of_anagrams('ab', 'abxaba') == [0, 3, 4]\n",
    "assert list_index_of_anagrams('ab', 'abababababab') == list(range(11))"
   ]
  },
  {
   "cell_type": "code",
   "execution_count": null,
   "metadata": {},
   "outputs": [],
   "source": []
  }
 ],
 "metadata": {
  "kernelspec": {
   "display_name": "Python 3",
   "language": "python",
   "name": "python3"
  },
  "language_info": {
   "codemirror_mode": {
    "name": "ipython",
    "version": 3
   },
   "file_extension": ".py",
   "mimetype": "text/x-python",
   "name": "python",
   "nbconvert_exporter": "python",
   "pygments_lexer": "ipython3",
   "version": "3.6.8"
  }
 },
 "nbformat": 4,
 "nbformat_minor": 2
}
