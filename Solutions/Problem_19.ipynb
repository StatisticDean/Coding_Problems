{
 "cells": [
  {
   "cell_type": "markdown",
   "metadata": {},
   "source": [
    "This problem was asked by Facebook.\n",
    "\n",
    "A builder is looking to build a row of N houses that can be of K different colors. He has a goal of minimizing cost while ensuring that no two neighboring houses are of the same color.\n",
    "\n",
    "Given an N by K matrix where the nth row and kth column represents the cost to build the nth house with kth color, return the minimum cost which achieves this goal."
   ]
  },
  {
   "cell_type": "markdown",
   "metadata": {},
   "source": [
    "# Solution"
   ]
  },
  {
   "cell_type": "markdown",
   "metadata": {},
   "source": [
    "## Remarks"
   ]
  },
  {
   "cell_type": "markdown",
   "metadata": {},
   "source": [
    "- If there are 2 colors, we only have 2 solutions to check\n",
    "- Any solution will use only the cheapest 3 colors for each house. Indeed, if a solution uses the 4th cheapest color for a given house, we can replace the color of that house with a cheaper color that is not the color of any of the adjacent house (since we have 3 choice and only 2 adjacents houses)."
   ]
  },
  {
   "cell_type": "code",
   "execution_count": 93,
   "metadata": {},
   "outputs": [],
   "source": [
    "import numpy as np\n",
    "\n",
    "N = 10\n",
    "K = 5\n",
    "cost_matrix = np.random.rand(N, K)"
   ]
  },
  {
   "cell_type": "markdown",
   "metadata": {},
   "source": [
    "## Solution 1"
   ]
  },
  {
   "cell_type": "code",
   "execution_count": 94,
   "metadata": {},
   "outputs": [],
   "source": [
    "def create_best_three(cost_matrix):\n",
    "    N, K = cost_matrix.shape\n",
    "    l=[]\n",
    "    for i in range(N):\n",
    "        args = np.argpartition(cost_matrix[i,:], 3)[:3]\n",
    "        l.append({k: cost_matrix[i,k] for k in args})\n",
    "    return l"
   ]
  },
  {
   "cell_type": "code",
   "execution_count": 96,
   "metadata": {},
   "outputs": [],
   "source": [
    "def lowest_cost(cost_matrix):\n",
    "    N, K = cost_matrix.shape\n",
    "    best_three = create_best_three(cost_matrix)\n",
    "    min_i = best_three[0]\n",
    "    for i in range(1, N):\n",
    "        new_min = {}\n",
    "        for k1, v1 in best_three[i].items():\n",
    "            new_min[k1] = min([v1 + v2 for k2, v2 in min_i.items() if k2 != k1])\n",
    "        min_i = new_min\n",
    "    return(min(min_i.values()))"
   ]
  },
  {
   "cell_type": "code",
   "execution_count": 90,
   "metadata": {},
   "outputs": [
    {
     "data": {
      "text/plain": [
       "1.9984738870322922"
      ]
     },
     "execution_count": 90,
     "metadata": {},
     "output_type": "execute_result"
    }
   ],
   "source": [
    "lowest_cost(cost_matrix)"
   ]
  },
  {
   "cell_type": "code",
   "execution_count": null,
   "metadata": {},
   "outputs": [],
   "source": []
  }
 ],
 "metadata": {
  "kernelspec": {
   "display_name": "Python 3",
   "language": "python",
   "name": "python3"
  },
  "language_info": {
   "codemirror_mode": {
    "name": "ipython",
    "version": 3
   },
   "file_extension": ".py",
   "mimetype": "text/x-python",
   "name": "python",
   "nbconvert_exporter": "python",
   "pygments_lexer": "ipython3",
   "version": "3.7.1"
  }
 },
 "nbformat": 4,
 "nbformat_minor": 2
}
