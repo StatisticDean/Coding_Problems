{
 "cells": [
  {
   "cell_type": "markdown",
   "metadata": {},
   "source": [
    "This problem was asked by Jane Street.\n",
    "\n",
    "Suppose you are given a table of currency exchange rates, represented as a 2D array. Determine whether there is a possible arbitrage: that is, whether there is some sequence of trades you can make, starting with some amount A of any currency, so that you can end up with some amount greater than A of that currency.\n",
    "\n",
    "There are no transaction costs and you can trade fractional quantities."
   ]
  },
  {
   "cell_type": "markdown",
   "metadata": {},
   "source": [
    "# Solution"
   ]
  },
  {
   "cell_type": "markdown",
   "metadata": {},
   "source": [
    "## Remarks"
   ]
  },
  {
   "cell_type": "markdown",
   "metadata": {},
   "source": [
    "- For a given cycle, we can compute how much more money we got while going around once. If and only if we find a cycle where that number is greater that 1, there is a possible arbitrage.\n",
    "- This is true because if we take a sequence A-B-...-A that makes us win money, we can look at all the sequence inside of this sequence of the type L-...-L without repetition of a letter. We then erase all the sequences that makes us lose money (we might have to do that multiple times). At some point, we'll encounter a sequence that makes us win money without repetition, this sequence is of length < n and as a result is a cycle.\n",
    "- To solve this problem, we'll use the following solution. We'll check for every starting currency (except the last one) if there is a \"winning cycle\" including that currency. To do that, we'll compute the amount of every currency we can get starting from a given currency in at most n steps. \n",
    "- We'll assume that at the index i, j of the array is the exchange rate to go from currency i to currency j"
   ]
  },
  {
   "cell_type": "code",
   "execution_count": 1,
   "metadata": {},
   "outputs": [],
   "source": [
    "import numpy as np"
   ]
  },
  {
   "cell_type": "code",
   "execution_count": 2,
   "metadata": {},
   "outputs": [],
   "source": [
    "def is_possible_arbitrage(array):\n",
    "    if not array.size:\n",
    "        return False\n",
    "    else:\n",
    "        n = array.shape[0]\n",
    "        best_amount = [1] + [0 for i in range(n)]\n",
    "        for k in range(n-1):\n",
    "            new_best = []\n",
    "            for i in range(n):\n",
    "                # There is probably a better way to calculate this here\n",
    "                new_best.append(max([best_amount[j] * array[j, i] for j in range(n)]))\n",
    "            best_amount = new_best\n",
    "        best = max([best_amount[j] * array[j, 0] for j in range(n)])\n",
    "    if best > 1:\n",
    "        return True\n",
    "    else:\n",
    "        return is_possible_arbitrage(array[1:, 1:])\n",
    "        \n",
    "            \n",
    "             \n",
    "            "
   ]
  },
  {
   "cell_type": "code",
   "execution_count": 3,
   "metadata": {},
   "outputs": [],
   "source": [
    "array_1 = np.array([[1, 2], [0.6, 1]])\n",
    "array_2 = np.array([[1, 1.5], [0.5, 1]])"
   ]
  },
  {
   "cell_type": "code",
   "execution_count": 4,
   "metadata": {},
   "outputs": [],
   "source": [
    "assert is_possible_arbitrage(array_1)\n",
    "assert not is_possible_arbitrage(array_2)"
   ]
  },
  {
   "cell_type": "code",
   "execution_count": null,
   "metadata": {},
   "outputs": [],
   "source": []
  }
 ],
 "metadata": {
  "kernelspec": {
   "display_name": "Python 3",
   "language": "python",
   "name": "python3"
  },
  "language_info": {
   "codemirror_mode": {
    "name": "ipython",
    "version": 3
   },
   "file_extension": ".py",
   "mimetype": "text/x-python",
   "name": "python",
   "nbconvert_exporter": "python",
   "pygments_lexer": "ipython3",
   "version": "3.7.1"
  }
 },
 "nbformat": 4,
 "nbformat_minor": 2
}
